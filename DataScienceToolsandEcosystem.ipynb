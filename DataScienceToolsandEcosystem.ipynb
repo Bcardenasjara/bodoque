{
 "cells": [
  {
   "cell_type": "markdown",
   "id": "e38d4426-e9aa-4c1e-8d3e-2b3aa26195db",
   "metadata": {},
   "source": [
    "# Data Science Tools and Ecosystem"
   ]
  },
  {
   "cell_type": "markdown",
   "id": "1bda807c-0342-46b6-95db-9760455e9e9b",
   "metadata": {},
   "source": [
    "Some of the popular languages that Data Scientists use are:\n",
    "\n",
    "- Python\n",
    "- R\n",
    "- SQL\n",
    "- Julia\n",
    "- Scala\n",
    "- MATLAB  "
   ]
  },
  {
   "cell_type": "markdown",
   "id": "0c716206-fd16-4409-a3a9-0db000a04a11",
   "metadata": {},
   "source": [
    "In this notebook, Data Science Tools and Ecosystem are summarized.\n",
    "\n",
    "**Objectives:**\n",
    "- List popular languages for Data Science\n",
    "- Identify common libraries for Data Science\n",
    "- Describe key tools for Data Science\n",
    "- Demonstrate basic arithmetic operations\n"
   ]
  },
  {
   "cell_type": "markdown",
   "id": "c51ed30d-9b64-4a43-8469-b40f67ccdf88",
   "metadata": {},
   "source": [
    "Some of the commonly used libraries used by Data Scientists include:\n",
    "\n",
    "- Pandas\n",
    "- NumPy\n",
    "- Matplotlib\n",
    "- Scikit-learn\n",
    "- TensorFlow\n",
    "- Keras   "
   ]
  },
  {
   "cell_type": "markdown",
   "id": "4abb554d-936b-4008-81e8-712f987d9c0b",
   "metadata": {},
   "source": [
    "| Data Science Tools |\n",
    "|--------------------|\n",
    "| Jupyter Notebook   |\n",
    "| RStudio            |\n",
    "| Apache Zeppelin    |\n"
   ]
  },
  {
   "cell_type": "markdown",
   "id": "070f019a-cd32-46b1-b8dc-a2221900aa31",
   "metadata": {},
   "source": [
    "### Below are a few examples of evaluating arithmetic expressions in Python\n"
   ]
  },
  {
   "cell_type": "code",
   "execution_count": 5,
   "id": "1f004111-fa4b-42d0-bdb7-38598a5b5101",
   "metadata": {},
   "outputs": [
    {
     "data": {
      "text/plain": [
       "13"
      ]
     },
     "execution_count": 5,
     "metadata": {},
     "output_type": "execute_result"
    }
   ],
   "source": [
    "# This is a simple arithmetic expression to multiply and add integers\n",
    "(3 * 3) + 4\n"
   ]
  },
  {
   "cell_type": "code",
   "execution_count": 6,
   "id": "b4fc41b4-2547-46f4-9f98-cc76c6943ac5",
   "metadata": {},
   "outputs": [
    {
     "data": {
      "text/plain": [
       "3.3333333333333335"
      ]
     },
     "execution_count": 6,
     "metadata": {},
     "output_type": "execute_result"
    }
   ],
   "source": [
    "# This will convert 200 minutes to hours by dividing by 60\n",
    "200 / 60\n"
   ]
  },
  {
   "cell_type": "markdown",
   "id": "333a9c74-19da-4cdd-aea0-171c4be7d55b",
   "metadata": {},
   "source": [
    "## Author\n",
    "[Benjamin Cardenas Jara]\n"
   ]
  },
  {
   "cell_type": "code",
   "execution_count": null,
   "id": "eb251755-e426-48a0-8cc8-eab29ca9e978",
   "metadata": {},
   "outputs": [],
   "source": []
  }
 ],
 "metadata": {
  "kernelspec": {
   "display_name": "Python 3 (ipykernel)",
   "language": "python",
   "name": "python3"
  },
  "language_info": {
   "codemirror_mode": {
    "name": "ipython",
    "version": 3
   },
   "file_extension": ".py",
   "mimetype": "text/x-python",
   "name": "python",
   "nbconvert_exporter": "python",
   "pygments_lexer": "ipython3",
   "version": "3.11.9"
  }
 },
 "nbformat": 4,
 "nbformat_minor": 5
}
